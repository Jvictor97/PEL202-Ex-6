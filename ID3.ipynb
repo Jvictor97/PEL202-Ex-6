{
 "cells": [
  {
   "cell_type": "markdown",
   "metadata": {},
   "source": [
    "# Exercício 6 - Algoritmo Árvores de Decisão com ID3"
   ]
  },
  {
   "cell_type": "markdown",
   "metadata": {},
   "source": [
    "## Importando as bibliotecas para construção do algoritmo"
   ]
  },
  {
   "cell_type": "code",
   "execution_count": 1,
   "metadata": {},
   "outputs": [],
   "source": [
    "import numpy as np\n",
    "import pandas as pd\n",
    "from sklearn.datasets import load_iris\n",
    "import math\n",
    "from graphviz import Digraph"
   ]
  },
  {
   "cell_type": "markdown",
   "metadata": {},
   "source": [
    "## Carregando e preparando dados do Iris Dataset"
   ]
  },
  {
   "cell_type": "code",
   "execution_count": 2,
   "metadata": {},
   "outputs": [],
   "source": [
    "# Importanto o dataset do Scikit Learn\n",
    "iris = load_iris()\n",
    "\n",
    "# Convertendo o dataset em um DataFrame\n",
    "data = pd.DataFrame(data=np.c_[iris['data'], iris['target']], \n",
    "                    columns=['Sepal Length', 'Sepal Width', 'Petal Length', 'Petal Width', 'Species'])\n",
    "\n",
    "# Renomeando as espécies conforme a especificação do dataset\n",
    "data['Species'].replace({0: 'Setosa', 1: 'Versicolour', 2: 'Virginica'}, inplace=True)"
   ]
  },
  {
   "cell_type": "markdown",
   "metadata": {},
   "source": [
    "## Classes para as estruturas de dados utilizadas"
   ]
  },
  {
   "cell_type": "markdown",
   "metadata": {},
   "source": [
    "#### Classe Árvore\n",
    "Armazena o resultado do ID3"
   ]
  },
  {
   "cell_type": "code",
   "execution_count": 3,
   "metadata": {},
   "outputs": [],
   "source": [
    "class Tree:\n",
    "    def __init__(self, root=None):\n",
    "        self.root = root"
   ]
  },
  {
   "cell_type": "markdown",
   "metadata": {},
   "source": [
    "#### Classe Nó\n",
    "Classe base com referências para os filhos esquerdo e direito de cada nó da árvore"
   ]
  },
  {
   "cell_type": "code",
   "execution_count": 4,
   "metadata": {},
   "outputs": [],
   "source": [
    "class Node:\n",
    "    def __init__(self):\n",
    "        self.left = None\n",
    "        self.right = None"
   ]
  },
  {
   "cell_type": "markdown",
   "metadata": {},
   "source": [
    "#### Classe Nó Condicional\n",
    "Representa um nó intermediário da árvore, que guarda uma condição utilizando um dos atributos do dataset"
   ]
  },
  {
   "cell_type": "code",
   "execution_count": 5,
   "metadata": {},
   "outputs": [],
   "source": [
    "class ConditionNode(Node):\n",
    "    def __init__(self, attribute, threshold):\n",
    "        self.attribute = attribute\n",
    "        self.threshold = threshold"
   ]
  },
  {
   "cell_type": "markdown",
   "metadata": {},
   "source": [
    "#### Nó Resultado (Rótulo)\n",
    "Representa um nó folha, isto é, um nó com um resultado para as condições anteriores da árvore"
   ]
  },
  {
   "cell_type": "code",
   "execution_count": 6,
   "metadata": {},
   "outputs": [],
   "source": [
    "class LabelNode(Node):\n",
    "    def __init__(self, label):\n",
    "        self.label = label"
   ]
  },
  {
   "cell_type": "markdown",
   "metadata": {},
   "source": [
    "#### Função Entropia"
   ]
  },
  {
   "cell_type": "code",
   "execution_count": 7,
   "metadata": {},
   "outputs": [],
   "source": [
    "# Recebe os dados de entrada e os possíveis resultados\n",
    "def entropy(dataset, outcomes=['Setosa', 'Versicolour', 'Virginica']): \n",
    "    _entropy = 0 # Inicializa a entropia\n",
    "    \n",
    "    # Itera sobre os possíveis resultados\n",
    "    for outcome in outcomes: \n",
    "        # Obtém o número de registros no dataset para um dado resultado\n",
    "        outcome_counter = len(dataset[dataset['Species'] == outcome]) \n",
    "        # Calcula a proporção de registros frente ao tamanho do dataset\n",
    "        proportion = outcome_counter / len(dataset)\n",
    "        # Calcula a entropia. Considera-se 0*log(0) = 0\n",
    "        _entropy -= 0 if proportion == 0 else proportion * math.log2(proportion)\n",
    "    \n",
    "    # Retorna a entropia calculada\n",
    "    return _entropy"
   ]
  },
  {
   "cell_type": "markdown",
   "metadata": {},
   "source": [
    "#### Função para o somatório ponderado da entropia dos sub-conjuntos\n",
    "Função utilizada para calcular o segundo termo da função de ganho, buscando o melhor limiar entre os possíveis para um dado atributo, a fim de maximizar seu ganho"
   ]
  },
  {
   "cell_type": "code",
   "execution_count": 8,
   "metadata": {},
   "outputs": [],
   "source": [
    "# Função para calcular o somatório das entropias para cada subconjunto do dataset\n",
    "def split_entropy(dataset, attribute): # Recebe os dados de entrada e o nome de um atributo do dataset\n",
    "    thresholds = dataset[attribute].unique() # Obtém os valores distintos do atributo especificado no dataset\n",
    "    thresholds.sort() # Ordena o vetor de valores\n",
    "    thresholds = thresholds[:-1] # Remove o último valor do vetor\n",
    "    \n",
    "    best_threshold = None # Inicializa a variável de melhor limiar\n",
    "    _best_split_entropy = None # inicializa a variável de melhor entropia\n",
    "    \n",
    "    # Itera sobre todos os possíveis limiares\n",
    "    for index, threshold in enumerate(thresholds):\n",
    "        # Filtra o dataset, com base no atributo recebido, para valores menores ou iguais ao limiar\n",
    "        less_or_equal_set = dataset[dataset[attribute] <= threshold]\n",
    "        # Filtra o dataset, com base no atributo recebido, para valores maiores do que o limiar\n",
    "        greater_set = dataset[dataset[attribute] > threshold]\n",
    "        \n",
    "        # Calcula a entropia do primeiro dataset\n",
    "        less_or_equal_entropy = entropy(less_or_equal_set)\n",
    "        # Calcula a entropia do segundo dataset\n",
    "        greater_entropy = entropy(greater_set)\n",
    "        \n",
    "        # Calcula a soma das entropias, ponderada pelo tamanho do dataset\n",
    "        result = len(less_or_equal_set) / len(dataset) * less_or_equal_entropy + len(greater_set) / len(dataset) * greater_entropy\n",
    "        \n",
    "        # Verifica se a nova soma obtida é menor do que a melhor entropia (o que gera um maior ganho para esse limiar)\n",
    "        if _best_split_entropy is None or result < _best_split_entropy:\n",
    "            # Caso seja, atualiza o melhor limiar e a melhor entropia\n",
    "            best_threshold = threshold\n",
    "            _best_split_entropy = result\n",
    "            \n",
    "    # Retorna os resultados obtidos\n",
    "    return _best_split_entropy, best_threshold"
   ]
  },
  {
   "cell_type": "markdown",
   "metadata": {},
   "source": [
    "#### Função Ganho"
   ]
  },
  {
   "cell_type": "code",
   "execution_count": 9,
   "metadata": {},
   "outputs": [],
   "source": [
    "# Recebe o dataset e o nome de um atributo\n",
    "def gain(dataset, attribute): \n",
    "    # Obtém o segundo termo da fórmula pela função 'split_entropy', bem como o limiar usado\n",
    "    _best_split_entropy, threshold = split_entropy(dataset, attribute)\n",
    "    # Retorna uma tupla com cálculo do ganho para o melhor limiar do dado atributo e o limiar obtido\n",
    "    return entropy(dataset) - _best_split_entropy, threshold"
   ]
  },
  {
   "cell_type": "markdown",
   "metadata": {},
   "source": [
    "#### Função para escolher o melhor atributo\n",
    "Utiliza a função de ganho para determinar o melhor atributo"
   ]
  },
  {
   "cell_type": "code",
   "execution_count": 10,
   "metadata": {},
   "outputs": [],
   "source": [
    "# Recebe o dataset e a lista de atributos disponíveis\n",
    "def get_best_attribute(dataset, attributes):\n",
    "    best_attribute = None # Inicializa o melhor atributo\n",
    "    max_gain = None # Inicializa o maior ganho\n",
    "    attribute_threshold = None # Inicializa o limiar do atributo\n",
    "     \n",
    "    # Itera sobre os atributos recebidos\n",
    "    for attribute in attributes:\n",
    "        # Calcula o ganho e o limiar para o atributo\n",
    "        attribute_gain, threshold = gain(dataset, attribute)\n",
    "\n",
    "        # Verifica se o ganho calcularo é maior que o max_gain\n",
    "        if max_gain is None or attribute_gain > max_gain:\n",
    "            # Caso seja, atualiza o ganho, o melhor atributo e o limiar\n",
    "            max_gain = attribute_gain\n",
    "            best_attribute = attribute\n",
    "            attribute_threshold = threshold\n",
    "            \n",
    "    # Retorna o melhor atributo e seu limiar\n",
    "    return best_attribute, attribute_threshold"
   ]
  },
  {
   "cell_type": "markdown",
   "metadata": {},
   "source": [
    "## Função ID3 (Iterative Dichotomiser)\n",
    "\n",
    "Função principal para a construção da árvore de decisão, adaptada para o uso com o Iris Dataset.\n",
    "\n",
    "Desenvolvida com base no pseudo-algoritmo disponível em: https://en.wikipedia.org/wiki/ID3_algorithm"
   ]
  },
  {
   "cell_type": "code",
   "execution_count": 11,
   "metadata": {},
   "outputs": [],
   "source": [
    "# Recebe o dataset, a árvore, o nó pai, um lado para o \n",
    "# nó atual (esquerdo ou direito) e a lista de atributos\n",
    "def ID3(dataset, tree, parent, side, attributes):\n",
    "    # Obtém o número de espécies restantes no dataset\n",
    "    speciesLeft = dataset['Species'].unique()\n",
    "    \n",
    "    # Inicializa o nó atual\n",
    "    currentNode = None\n",
    "    \n",
    "    # Se há somente uma espécie no dataset\n",
    "    if len(speciesLeft) == 1:\n",
    "        # Atualiza o nó atual para ser um nó folha com o nome da espécie\n",
    "        currentNode = LabelNode(speciesLeft[0])\n",
    "        # Adiciona uma referência do nó atual no nó pai\n",
    "        setattr(parent, side, currentNode)\n",
    "    # Caso contrário, se não houver mais nenhum atributo disponível\n",
    "    elif attributes is not None and len(attributes) == 0:\n",
    "        # Verifica a espécie mais recorrente no dataset recebido\n",
    "        mostCommonSpecies = dataset['Species'].mode()[0]\n",
    "        # Atualiza o nó atual para ser um nó folha com o nome da espécie\n",
    "        currentNode = LabelNode(mostCommonSpecies)\n",
    "        # Adiciona uma referência do nó atual no nó pai\n",
    "        setattr(parent, side, currentNode)\n",
    "    # Caso contrário\n",
    "    else:\n",
    "        # Se a lista de atributos estiver nula (caso da primeira chamada do ID3)\n",
    "        if attributes is None:\n",
    "            # Atualiza a lista de atributos com todos os disponíveis no dataset\n",
    "            attributes = list(dataset.columns[:-1])\n",
    "            \n",
    "        # Obtém o melhor atributo e seu limiar                \n",
    "        best_attribute, threshold = get_best_attribute(dataset, attributes)\n",
    "        # Atualiza o nó atual para ser um nó condicional para o melhor atributo\n",
    "        currentNode = ConditionNode(best_attribute, threshold)\n",
    "        \n",
    "        # Se a árvore está vazia, o nó atual vira raiz\n",
    "        if tree.root is None:\n",
    "            tree.root = currentNode\n",
    "        else: # Senão, o nó atual é associado ao nó pai\n",
    "            setattr(parent, side, currentNode)\n",
    "            \n",
    "        # Remove o melhor atributo da lista de atributos disponíveis\n",
    "        attributes.remove(best_attribute)\n",
    "\n",
    "        # Cria uma lista constante com os dois possíveis lados (filhos) para o nó atual\n",
    "        node_sides = ['left', 'right']\n",
    "\n",
    "        # Itera sobre a lista de lados\n",
    "        for node_side in node_sides:\n",
    "            # Se o lado for esquerdo\n",
    "            if node_side == 'left':\n",
    "                # Filtra o dataset com os dados menores ou iguais ao o limiar\n",
    "                filtered_dataset = dataset[dataset[best_attribute] <= threshold]\n",
    "            else:\n",
    "                # Senão, filtra o dataset com os dados maiores do que o limiar\n",
    "                filtered_dataset = dataset[dataset[best_attribute] > threshold]\n",
    "\n",
    "            # Se o dataset filtrado estiver vazio\n",
    "            if len(filtered_dataset) == 0:\n",
    "                # Obtém a espécie mais recorrente no dataset recebido \n",
    "                mostCommonSpecies = dataset['Species'].mode()[0]\n",
    "                # Cria um nó filho como um nó folha com essa espécie\n",
    "                labelNode = LabelNode(mostCommonSpecies)\n",
    "                # Adiciona uma referência desse nó filho no nó atual\n",
    "                setattr(currentNode, node_side, labelNode)\n",
    "            # Caso contrário\n",
    "            else:\n",
    "                # Chama recursivamente o ID3 enviando o dataset filtrado, a árvore,\n",
    "                # o nó atual, o lado para o qual o algoritmo será executado e a lista \n",
    "                # de atributos disponíveis\n",
    "                ID3(filtered_dataset, tree, currentNode, node_side, attributes)                "
   ]
  },
  {
   "cell_type": "markdown",
   "metadata": {},
   "source": [
    "## Funções para exibir a árvore obtida"
   ]
  },
  {
   "cell_type": "markdown",
   "metadata": {},
   "source": [
    "#### Função para adicionar um nó e suas arestas à árvore\n",
    "Função recursiva que realiza uma busca em profundidade na árvore para adicionar os nós a um grafo que será desenhado em tela"
   ]
  },
  {
   "cell_type": "code",
   "execution_count": 12,
   "metadata": {},
   "outputs": [],
   "source": [
    "# Recebe o nó pai, o nó atual, o grafo e um label para a aresta\n",
    "def add_node(parent, node, graph, label):\n",
    "    # Se o tipo do nó for um nó folha\n",
    "    if type(node) == LabelNode:\n",
    "        # Altera o formato do nó para um retângulo\n",
    "        graph.attr('node', shape='box')\n",
    "        # Adiciona o nó ao grafo\n",
    "        graph.node(node.label)\n",
    "        # Adiciona uma aresta que liga o pai ao filho e adiciona o label recebido\n",
    "        graph.edge(parent.attribute, node.label, label)\n",
    "        return # Retorna\n",
    "    \n",
    "    # Caso não seja um nó folha\n",
    "    # Altera o formato do nó para uma elipse\n",
    "    graph.attr('node', shape='ellipse')\n",
    "    # Adiciona o nó ao grafo\n",
    "    graph.node(node.attribute)\n",
    "    # Se o nó pai recebido não for nulo\n",
    "    if parent is not None:\n",
    "        # Adiciona uma aresta que liga o pai ao filho e adiciona o label recebido\n",
    "        graph.edge(parent.attribute, node.attribute, label)\n",
    "    \n",
    "    # Chama recursivamente a função no filho esquerdo\n",
    "    add_node(node, node.left, graph, f'<= {node.threshold}')\n",
    "    \n",
    "    # Chama recursivamente a função no filho direito\n",
    "    add_node(node, node.right, graph, f'> {node.threshold}')"
   ]
  },
  {
   "cell_type": "markdown",
   "metadata": {},
   "source": [
    "#### Função principal para imprimir a árvore"
   ]
  },
  {
   "cell_type": "code",
   "execution_count": 13,
   "metadata": {},
   "outputs": [],
   "source": [
    "def print_tree(tree): # Recebe a árvore gerada pelo ID3\n",
    "    iris_graph = Digraph() # Inicializa o grafo \n",
    "    # Realiza a primeira chamada da função para adicionar o nó raiz\n",
    "    add_node(None, tree.root, iris_graph, None)\n",
    "    # Retorna o grafo gerado\n",
    "    return iris_graph"
   ]
  },
  {
   "cell_type": "markdown",
   "metadata": {},
   "source": [
    "### Executando o ID3 e imprimindo o resultado"
   ]
  },
  {
   "cell_type": "code",
   "execution_count": 14,
   "metadata": {},
   "outputs": [],
   "source": [
    "iris_tree = Tree() # Inicializa a árvore\n",
    "ID3(data, iris_tree, None, None, None) # Executa o ID3"
   ]
  },
  {
   "cell_type": "code",
   "execution_count": 15,
   "metadata": {},
   "outputs": [
    {
     "data": {
      "image/svg+xml": [
       "<?xml version=\"1.0\" encoding=\"UTF-8\" standalone=\"no\"?>\r\n",
       "<!DOCTYPE svg PUBLIC \"-//W3C//DTD SVG 1.1//EN\"\r\n",
       " \"http://www.w3.org/Graphics/SVG/1.1/DTD/svg11.dtd\">\r\n",
       "<!-- Generated by graphviz version 2.38.0 (20140413.2041)\r\n",
       " -->\r\n",
       "<!-- Title: %3 Pages: 1 -->\r\n",
       "<svg width=\"204pt\" height=\"392pt\"\r\n",
       " viewBox=\"0.00 0.00 203.90 392.00\" xmlns=\"http://www.w3.org/2000/svg\" xmlns:xlink=\"http://www.w3.org/1999/xlink\">\r\n",
       "<g id=\"graph0\" class=\"graph\" transform=\"scale(1 1) rotate(0) translate(4 388)\">\r\n",
       "<title>%3</title>\r\n",
       "<polygon fill=\"white\" stroke=\"none\" points=\"-4,4 -4,-388 199.895,-388 199.895,4 -4,4\"/>\r\n",
       "<!-- Petal Length -->\r\n",
       "<g id=\"node1\" class=\"node\"><title>Petal Length</title>\r\n",
       "<ellipse fill=\"none\" stroke=\"black\" cx=\"66.895\" cy=\"-366\" rx=\"55.7903\" ry=\"18\"/>\r\n",
       "<text text-anchor=\"middle\" x=\"66.895\" y=\"-362.3\" font-family=\"Times New Roman,serif\" font-size=\"14.00\">Petal Length</text>\r\n",
       "</g>\r\n",
       "<!-- Setosa -->\r\n",
       "<g id=\"node2\" class=\"node\"><title>Setosa</title>\r\n",
       "<polygon fill=\"none\" stroke=\"black\" points=\"54.895,-297 0.89504,-297 0.89504,-261 54.895,-261 54.895,-297\"/>\r\n",
       "<text text-anchor=\"middle\" x=\"27.895\" y=\"-275.3\" font-family=\"Times New Roman,serif\" font-size=\"14.00\">Setosa</text>\r\n",
       "</g>\r\n",
       "<!-- Petal Length&#45;&gt;Setosa -->\r\n",
       "<g id=\"edge1\" class=\"edge\"><title>Petal Length&#45;&gt;Setosa</title>\r\n",
       "<path fill=\"none\" stroke=\"black\" d=\"M56.5849,-348.194C53.2934,-342.516 49.7637,-336.075 46.895,-330 43.4214,-322.643 40.1,-314.466 37.2335,-306.891\"/>\r\n",
       "<polygon fill=\"black\" stroke=\"black\" points=\"40.4821,-305.584 33.7528,-297.401 33.9101,-307.994 40.4821,-305.584\"/>\r\n",
       "<text text-anchor=\"middle\" x=\"65.895\" y=\"-318.8\" font-family=\"Times New Roman,serif\" font-size=\"14.00\">&lt;= 1.9</text>\r\n",
       "</g>\r\n",
       "<!-- Petal Width -->\r\n",
       "<g id=\"node3\" class=\"node\"><title>Petal Width</title>\r\n",
       "<ellipse fill=\"none\" stroke=\"black\" cx=\"125.895\" cy=\"-279\" rx=\"53.0913\" ry=\"18\"/>\r\n",
       "<text text-anchor=\"middle\" x=\"125.895\" y=\"-275.3\" font-family=\"Times New Roman,serif\" font-size=\"14.00\">Petal Width</text>\r\n",
       "</g>\r\n",
       "<!-- Petal Length&#45;&gt;Petal Width -->\r\n",
       "<g id=\"edge2\" class=\"edge\"><title>Petal Length&#45;&gt;Petal Width</title>\r\n",
       "<path fill=\"none\" stroke=\"black\" d=\"M78.5515,-348.207C87.0365,-335.983 98.676,-319.214 108.291,-305.362\"/>\r\n",
       "<polygon fill=\"black\" stroke=\"black\" points=\"111.436,-306.969 114.263,-296.758 105.685,-302.978 111.436,-306.969\"/>\r\n",
       "<text text-anchor=\"middle\" x=\"115.895\" y=\"-318.8\" font-family=\"Times New Roman,serif\" font-size=\"14.00\">&gt; 1.9</text>\r\n",
       "</g>\r\n",
       "<!-- Sepal Length -->\r\n",
       "<g id=\"node4\" class=\"node\"><title>Sepal Length</title>\r\n",
       "<ellipse fill=\"none\" stroke=\"black\" cx=\"68.895\" cy=\"-192\" rx=\"57.6901\" ry=\"18\"/>\r\n",
       "<text text-anchor=\"middle\" x=\"68.895\" y=\"-188.3\" font-family=\"Times New Roman,serif\" font-size=\"14.00\">Sepal Length</text>\r\n",
       "</g>\r\n",
       "<!-- Petal Width&#45;&gt;Sepal Length -->\r\n",
       "<g id=\"edge3\" class=\"edge\"><title>Petal Width&#45;&gt;Sepal Length</title>\r\n",
       "<path fill=\"none\" stroke=\"black\" d=\"M114.634,-261.207C106.436,-248.983 95.1914,-232.214 85.9028,-218.362\"/>\r\n",
       "<polygon fill=\"black\" stroke=\"black\" points=\"88.6095,-216.114 80.133,-209.758 82.7957,-220.013 88.6095,-216.114\"/>\r\n",
       "<text text-anchor=\"middle\" x=\"119.895\" y=\"-231.8\" font-family=\"Times New Roman,serif\" font-size=\"14.00\">&lt;= 1.7</text>\r\n",
       "</g>\r\n",
       "<!-- Virginica -->\r\n",
       "<g id=\"node7\" class=\"node\"><title>Virginica</title>\r\n",
       "<polygon fill=\"none\" stroke=\"black\" points=\"195.895,-123 129.895,-123 129.895,-87 195.895,-87 195.895,-123\"/>\r\n",
       "<text text-anchor=\"middle\" x=\"162.895\" y=\"-101.3\" font-family=\"Times New Roman,serif\" font-size=\"14.00\">Virginica</text>\r\n",
       "</g>\r\n",
       "<!-- Petal Width&#45;&gt;Virginica -->\r\n",
       "<g id=\"edge8\" class=\"edge\"><title>Petal Width&#45;&gt;Virginica</title>\r\n",
       "<path fill=\"none\" stroke=\"black\" d=\"M135.458,-260.982C138.239,-255.4 141.027,-249.069 142.895,-243 154.255,-206.088 159.234,-161.544 161.366,-133.488\"/>\r\n",
       "<polygon fill=\"black\" stroke=\"black\" points=\"164.876,-133.46 162.073,-123.243 157.893,-132.978 164.876,-133.46\"/>\r\n",
       "<text text-anchor=\"middle\" x=\"171.895\" y=\"-188.3\" font-family=\"Times New Roman,serif\" font-size=\"14.00\">&gt; 1.7</text>\r\n",
       "</g>\r\n",
       "<!-- Sepal Width -->\r\n",
       "<g id=\"node5\" class=\"node\"><title>Sepal Width</title>\r\n",
       "<ellipse fill=\"none\" stroke=\"black\" cx=\"55.895\" cy=\"-105\" rx=\"55.7903\" ry=\"18\"/>\r\n",
       "<text text-anchor=\"middle\" x=\"55.895\" y=\"-101.3\" font-family=\"Times New Roman,serif\" font-size=\"14.00\">Sepal Width</text>\r\n",
       "</g>\r\n",
       "<!-- Sepal Length&#45;&gt;Sepal Width -->\r\n",
       "<g id=\"edge4\" class=\"edge\"><title>Sepal Length&#45;&gt;Sepal Width</title>\r\n",
       "<path fill=\"none\" stroke=\"black\" d=\"M62.488,-173.778C60.6769,-168.184 58.9212,-161.899 57.895,-156 56.6345,-148.754 55.989,-140.833 55.6895,-133.475\"/>\r\n",
       "<polygon fill=\"black\" stroke=\"black\" points=\"59.1837,-133.164 55.4671,-123.243 52.1853,-133.317 59.1837,-133.164\"/>\r\n",
       "<text text-anchor=\"middle\" x=\"76.895\" y=\"-144.8\" font-family=\"Times New Roman,serif\" font-size=\"14.00\">&lt;= 7.0</text>\r\n",
       "</g>\r\n",
       "<!-- Sepal Length&#45;&gt;Virginica -->\r\n",
       "<g id=\"edge7\" class=\"edge\"><title>Sepal Length&#45;&gt;Virginica</title>\r\n",
       "<path fill=\"none\" stroke=\"black\" d=\"M84.6563,-174.309C94.2811,-164.355 106.989,-151.627 118.895,-141 123.082,-137.263 127.608,-133.439 132.11,-129.755\"/>\r\n",
       "<polygon fill=\"black\" stroke=\"black\" points=\"134.506,-132.319 140.107,-123.326 130.12,-126.864 134.506,-132.319\"/>\r\n",
       "<text text-anchor=\"middle\" x=\"133.895\" y=\"-144.8\" font-family=\"Times New Roman,serif\" font-size=\"14.00\">&gt; 7.0</text>\r\n",
       "</g>\r\n",
       "<!-- Versicolour -->\r\n",
       "<g id=\"node6\" class=\"node\"><title>Versicolour</title>\r\n",
       "<polygon fill=\"none\" stroke=\"black\" points=\"96.895,-36 14.895,-36 14.895,-0 96.895,-0 96.895,-36\"/>\r\n",
       "<text text-anchor=\"middle\" x=\"55.895\" y=\"-14.3\" font-family=\"Times New Roman,serif\" font-size=\"14.00\">Versicolour</text>\r\n",
       "</g>\r\n",
       "<!-- Sepal Width&#45;&gt;Versicolour -->\r\n",
       "<g id=\"edge5\" class=\"edge\"><title>Sepal Width&#45;&gt;Versicolour</title>\r\n",
       "<path fill=\"none\" stroke=\"black\" d=\"M38.4702,-87.7206C33.7946,-82.2709 29.3569,-75.8297 26.895,-69 23.9112,-60.722 26.3739,-52.2485 30.902,-44.6848\"/>\r\n",
       "<polygon fill=\"black\" stroke=\"black\" points=\"33.9473,-46.4461 36.9639,-36.2898 28.2721,-42.3482 33.9473,-46.4461\"/>\r\n",
       "<text text-anchor=\"middle\" x=\"45.895\" y=\"-57.8\" font-family=\"Times New Roman,serif\" font-size=\"14.00\">&lt;= 2.8</text>\r\n",
       "</g>\r\n",
       "<!-- Sepal Width&#45;&gt;Versicolour -->\r\n",
       "<g id=\"edge6\" class=\"edge\"><title>Sepal Width&#45;&gt;Versicolour</title>\r\n",
       "<path fill=\"none\" stroke=\"black\" d=\"M61.5796,-86.9436C64.1315,-77.3101 66.2899,-65.0254 64.895,-54 64.5712,-51.4402 64.1191,-48.7996 63.5884,-46.1702\"/>\r\n",
       "<polygon fill=\"black\" stroke=\"black\" points=\"66.958,-45.2095 61.2566,-36.2796 60.1447,-46.8159 66.958,-45.2095\"/>\r\n",
       "<text text-anchor=\"middle\" x=\"80.895\" y=\"-57.8\" font-family=\"Times New Roman,serif\" font-size=\"14.00\">&gt; 2.8</text>\r\n",
       "</g>\r\n",
       "</g>\r\n",
       "</svg>\r\n"
      ],
      "text/plain": [
       "<graphviz.dot.Digraph at 0x124483d0>"
      ]
     },
     "execution_count": 15,
     "metadata": {},
     "output_type": "execute_result"
    }
   ],
   "source": [
    "print_tree(iris_tree) # Imprime a árvore obtida"
   ]
  }
 ],
 "metadata": {
  "kernelspec": {
   "display_name": "Python 3",
   "language": "python",
   "name": "python3"
  },
  "language_info": {
   "codemirror_mode": {
    "name": "ipython",
    "version": 3
   },
   "file_extension": ".py",
   "mimetype": "text/x-python",
   "name": "python",
   "nbconvert_exporter": "python",
   "pygments_lexer": "ipython3",
   "version": "3.7.4"
  }
 },
 "nbformat": 4,
 "nbformat_minor": 2
}
